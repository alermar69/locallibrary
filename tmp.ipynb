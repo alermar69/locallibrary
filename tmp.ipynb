{
 "cells": [
  {
   "cell_type": "code",
   "execution_count": 3,
   "metadata": {
    "collapsed": true
   },
   "outputs": [],
   "source": [
    "import pandas as pd"
   ]
  },
  {
   "cell_type": "code",
   "execution_count": 8,
   "outputs": [
    {
     "data": {
      "text/plain": "DatetimeIndex(['2021-01-10', '2021-01-11', '2021-01-12', '2021-01-13',\n               '2021-01-14', '2021-01-15', '2021-01-16', '2021-01-17',\n               '2021-01-18', '2021-01-19',\n               ...\n               '2021-10-20', '2021-10-21', '2021-10-22', '2021-10-23',\n               '2021-10-24', '2021-10-25', '2021-10-26', '2021-10-27',\n               '2021-10-28', '2021-10-29'],\n              dtype='datetime64[ns]', length=293, freq='D')"
     },
     "execution_count": 8,
     "metadata": {},
     "output_type": "execute_result"
    }
   ],
   "source": [
    "dr = pd.date_range('1/10/2021', '29/10/2021')\n",
    "dr"
   ],
   "metadata": {
    "collapsed": false,
    "pycharm": {
     "name": "#%%\n"
    }
   }
  },
  {
   "cell_type": "code",
   "execution_count": 13,
   "outputs": [
    {
     "data": {
      "text/plain": "          name\n0   2021-01-10\n1   2021-01-11\n2   2021-01-12\n3   2021-01-13\n4   2021-01-14\n..         ...\n288 2021-10-25\n289 2021-10-26\n290 2021-10-27\n291 2021-10-28\n292 2021-10-29\n\n[293 rows x 1 columns]",
      "text/html": "<div>\n<style scoped>\n    .dataframe tbody tr th:only-of-type {\n        vertical-align: middle;\n    }\n\n    .dataframe tbody tr th {\n        vertical-align: top;\n    }\n\n    .dataframe thead th {\n        text-align: right;\n    }\n</style>\n<table border=\"1\" class=\"dataframe\">\n  <thead>\n    <tr style=\"text-align: right;\">\n      <th></th>\n      <th>name</th>\n    </tr>\n  </thead>\n  <tbody>\n    <tr>\n      <th>0</th>\n      <td>2021-01-10</td>\n    </tr>\n    <tr>\n      <th>1</th>\n      <td>2021-01-11</td>\n    </tr>\n    <tr>\n      <th>2</th>\n      <td>2021-01-12</td>\n    </tr>\n    <tr>\n      <th>3</th>\n      <td>2021-01-13</td>\n    </tr>\n    <tr>\n      <th>4</th>\n      <td>2021-01-14</td>\n    </tr>\n    <tr>\n      <th>...</th>\n      <td>...</td>\n    </tr>\n    <tr>\n      <th>288</th>\n      <td>2021-10-25</td>\n    </tr>\n    <tr>\n      <th>289</th>\n      <td>2021-10-26</td>\n    </tr>\n    <tr>\n      <th>290</th>\n      <td>2021-10-27</td>\n    </tr>\n    <tr>\n      <th>291</th>\n      <td>2021-10-28</td>\n    </tr>\n    <tr>\n      <th>292</th>\n      <td>2021-10-29</td>\n    </tr>\n  </tbody>\n</table>\n<p>293 rows × 1 columns</p>\n</div>"
     },
     "execution_count": 13,
     "metadata": {},
     "output_type": "execute_result"
    }
   ],
   "source": [
    "df = pd.DataFrame(dr, columns = ['name'])\n",
    "df"
   ],
   "metadata": {
    "collapsed": false,
    "pycharm": {
     "name": "#%%\n"
    }
   }
  },
  {
   "cell_type": "code",
   "execution_count": 5,
   "outputs": [],
   "source": [
    "import sqlite3"
   ],
   "metadata": {
    "collapsed": false,
    "pycharm": {
     "name": "#%%\n"
    }
   }
  },
  {
   "cell_type": "code",
   "execution_count": 19,
   "outputs": [],
   "source": [
    "con = sqlite3.connect('D:\\IT\\PR\\locallibrary\\db.sqlite3')"
   ],
   "metadata": {
    "collapsed": false,
    "pycharm": {
     "name": "#%%\n"
    }
   }
  },
  {
   "cell_type": "code",
   "execution_count": 22,
   "outputs": [],
   "source": [
    "df.to_sql('catalog_dates',con,index=True,if_exists='replace')"
   ],
   "metadata": {
    "collapsed": false,
    "pycharm": {
     "name": "#%%\n"
    }
   }
  },
  {
   "cell_type": "code",
   "execution_count": 20,
   "outputs": [
    {
     "data": {
      "text/plain": "   id                                              title  \\\n0   1   Администрирование сетей Cisco. Освоение за месяц   \n1   2                      Python. к вершинам мастерства   \n2   3  Изучаем Python. Программирование игр, визуализ...   \n3   4                                     Изучаем Python   \n4   5                                    C# для чайников   \n5   6  C# 7 и .NET Core. Кросс-платформенная разработ...   \n6   7  Чистый Python. Тонкости программирования для п...   \n\n                                             summary       isbn  author_id  \n0  Для удаления книги из этого списка выберите че...  456487544          1  \n1  Вы можете редактировать книгу, кликнув по ссыл...  785468789          2  \n2  Руководство по языку Python c многочисленными ...     458795          3  \n3  Классический учебник Python со всесторонним гл...  659811445          4  \n4  Даже если вы никогда не имели дела с программи...   55897895          5  \n5  Книга представляет собой скорее обзор платформ...    7711254          6  \n6  Словосочетание «для профи» – выдумка российски...   89872258          4  ",
      "text/html": "<div>\n<style scoped>\n    .dataframe tbody tr th:only-of-type {\n        vertical-align: middle;\n    }\n\n    .dataframe tbody tr th {\n        vertical-align: top;\n    }\n\n    .dataframe thead th {\n        text-align: right;\n    }\n</style>\n<table border=\"1\" class=\"dataframe\">\n  <thead>\n    <tr style=\"text-align: right;\">\n      <th></th>\n      <th>id</th>\n      <th>title</th>\n      <th>summary</th>\n      <th>isbn</th>\n      <th>author_id</th>\n    </tr>\n  </thead>\n  <tbody>\n    <tr>\n      <th>0</th>\n      <td>1</td>\n      <td>Администрирование сетей Cisco. Освоение за месяц</td>\n      <td>Для удаления книги из этого списка выберите че...</td>\n      <td>456487544</td>\n      <td>1</td>\n    </tr>\n    <tr>\n      <th>1</th>\n      <td>2</td>\n      <td>Python. к вершинам мастерства</td>\n      <td>Вы можете редактировать книгу, кликнув по ссыл...</td>\n      <td>785468789</td>\n      <td>2</td>\n    </tr>\n    <tr>\n      <th>2</th>\n      <td>3</td>\n      <td>Изучаем Python. Программирование игр, визуализ...</td>\n      <td>Руководство по языку Python c многочисленными ...</td>\n      <td>458795</td>\n      <td>3</td>\n    </tr>\n    <tr>\n      <th>3</th>\n      <td>4</td>\n      <td>Изучаем Python</td>\n      <td>Классический учебник Python со всесторонним гл...</td>\n      <td>659811445</td>\n      <td>4</td>\n    </tr>\n    <tr>\n      <th>4</th>\n      <td>5</td>\n      <td>C# для чайников</td>\n      <td>Даже если вы никогда не имели дела с программи...</td>\n      <td>55897895</td>\n      <td>5</td>\n    </tr>\n    <tr>\n      <th>5</th>\n      <td>6</td>\n      <td>C# 7 и .NET Core. Кросс-платформенная разработ...</td>\n      <td>Книга представляет собой скорее обзор платформ...</td>\n      <td>7711254</td>\n      <td>6</td>\n    </tr>\n    <tr>\n      <th>6</th>\n      <td>7</td>\n      <td>Чистый Python. Тонкости программирования для п...</td>\n      <td>Словосочетание «для профи» – выдумка российски...</td>\n      <td>89872258</td>\n      <td>4</td>\n    </tr>\n  </tbody>\n</table>\n</div>"
     },
     "execution_count": 20,
     "metadata": {},
     "output_type": "execute_result"
    }
   ],
   "source": [
    "df2 = pd.read_sql('select * from catalog_book', con)\n",
    "df2"
   ],
   "metadata": {
    "collapsed": false,
    "pycharm": {
     "name": "#%%\n"
    }
   }
  },
  {
   "cell_type": "code",
   "execution_count": null,
   "outputs": [],
   "source": [],
   "metadata": {
    "collapsed": false,
    "pycharm": {
     "name": "#%%\n"
    }
   }
  },
  {
   "cell_type": "code",
   "execution_count": null,
   "outputs": [],
   "source": [],
   "metadata": {
    "collapsed": false,
    "pycharm": {
     "name": "#%%\n"
    }
   }
  }
 ],
 "metadata": {
  "kernelspec": {
   "display_name": "Python 3",
   "language": "python",
   "name": "python3"
  },
  "language_info": {
   "codemirror_mode": {
    "name": "ipython",
    "version": 2
   },
   "file_extension": ".py",
   "mimetype": "text/x-python",
   "name": "python",
   "nbconvert_exporter": "python",
   "pygments_lexer": "ipython2",
   "version": "2.7.6"
  }
 },
 "nbformat": 4,
 "nbformat_minor": 0
}